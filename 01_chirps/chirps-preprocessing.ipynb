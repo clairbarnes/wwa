{
 "cells": [
  {
   "cell_type": "markdown",
   "id": "9cf01660-8376-45d8-953e-9e20ebba86ba",
   "metadata": {},
   "source": [
    "### **Concatenation of CHIRPS data**"
   ]
  },
  {
   "cell_type": "code",
   "execution_count": 2,
   "id": "0cc2037e-0731-4b98-bafc-889e3ff20cdd",
   "metadata": {},
   "outputs": [],
   "source": [
    "import xarray as xr"
   ]
  },
  {
   "cell_type": "markdown",
   "id": "933d6954-e513-43ac-a17d-832ee99eba4c",
   "metadata": {},
   "source": [
    "```\n",
    "# download CHIRPS global daily data (0.25-degree resolution)\n",
    "! for y in `seq 1981 2022`; do wget https://data.chc.ucsb.edu/products/CHIRPS-2.0/global_daily/netcdf/p25/chirps-v2.0.$y.days_p25.nc; done\n",
    "```"
   ]
  },
  {
   "cell_type": "code",
   "execution_count": null,
   "id": "bef0ff3c-432d-465d-9ef4-51934d8a7bf9",
   "metadata": {},
   "outputs": [],
   "source": [
    "# concatenate daily data into a single file, save subset \n",
    "xr.open_mfdataset(\"chirps-v2.0.*.days_p25.nc\").to_netcdf(\"chirps-daily-p25.nc\")"
   ]
  },
  {
   "cell_type": "markdown",
   "id": "23cc1e12-fac9-4ad9-9eb7-e289870c30de",
   "metadata": {},
   "source": [
    "```\n",
    "# download CHIRPS global monthly data (~0.05-degree resolution)\n",
    "! wget https://data.chc.ucsb.edu/products/CHIRPS-2.0/global_monthly/netcdf/chirps-v2.0.monthly.nc\n",
    "```"
   ]
  },
  {
   "cell_type": "code",
   "execution_count": null,
   "id": "b0e6e772-a61c-4bf2-9322-49eb78da8b66",
   "metadata": {},
   "outputs": [],
   "source": [
    "# load monthly data & save subset\n",
    "subregion = {\"lat\" : [0,24], \"lon\" : [-20,33]}\n",
    "xr.open_dataset(\"chirps-v2.0.monthly.nc\").sel(longitude = slice(subregion[\"lon\"][0], subregion[\"lon\"][1]),\n",
    "                                              latitude = slice(subregion[\"lat\"][0], subregion[\"lat\"][1])).to_netcdf(\"chirps-nigeriaflooding-monthly.nc\")"
   ]
  }
 ],
 "metadata": {
  "kernelspec": {
   "display_name": "wwa",
   "language": "python",
   "name": "wwa"
  },
  "language_info": {
   "codemirror_mode": {
    "name": "ipython",
    "version": 3
   },
   "file_extension": ".py",
   "mimetype": "text/x-python",
   "name": "python",
   "nbconvert_exporter": "python",
   "pygments_lexer": "ipython3",
   "version": "3.10.6"
  }
 },
 "nbformat": 4,
 "nbformat_minor": 5
}
