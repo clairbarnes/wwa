{
 "cells": [
  {
   "cell_type": "markdown",
   "id": "aeab208e-c6c1-4176-aeee-9edeb9862271",
   "metadata": {},
   "source": [
    "## **Pre-processing of commonly used data files**"
   ]
  },
  {
   "cell_type": "code",
   "execution_count": 4,
   "id": "bdb398a9-8930-4af3-bc2f-11cd8ee79654",
   "metadata": {},
   "outputs": [],
   "source": [
    "import sys; sys.path.append('/home/clair/wwa'); from wwa import *"
   ]
  },
  {
   "cell_type": "markdown",
   "id": "1b959c91-f6ec-4f36-88db-f402d76e8ec6",
   "metadata": {},
   "source": [
    "### **Global elevation**"
   ]
  },
  {
   "cell_type": "markdown",
   "id": "8dfcc42a-5754-459b-8f77-60cf06c9f859",
   "metadata": {},
   "source": [
    "! wget http://research.jisao.washington.edu/data_sets/elevation/elev.0.25-deg.nc\n",
    "\n",
    "ds = wrap_lon(xr.open_dataset(\"../90_data/elev.0.25-deg.nc\", decode_times = False).data.squeeze(drop = True))\n",
    "ds = ds.assign_attrs(long_name = \"elevation\", units = \"m above sea level\",                    \n",
    "                     source = \"http://research.jisao.washington.edu/data_sets/elevation/\").rename(\"elev\")\n",
    "ds.to_netcdf(\"../90_data/elevation-0.25deg-global.nc\")"
   ]
  },
  {
   "cell_type": "markdown",
   "id": "07497430-f448-4e86-b7c2-639a86b5dadb",
   "metadata": {},
   "source": [
    "### **GSATs**"
   ]
  },
  {
   "cell_type": "markdown",
   "id": "af6d9b6e-faf8-4105-8f2a-b9b8716716cf",
   "metadata": {},
   "source": [
    "#### **UKCP global**"
   ]
  },
  {
   "cell_type": "code",
   "execution_count": 34,
   "id": "7af1f33d-86df-47e6-bd5d-8d8a5a56b81a",
   "metadata": {},
   "outputs": [],
   "source": [
    "ukcp_gsat = xr.open_dataset(\"../90_data/ukcp-land-gcm_gsat.nc\").sel(ensemble_member = slice(None, 15)).tas_aw.dropna(\"time\", \"any\")\n",
    "ukcp_gsat = ukcp_gsat.assign_coords(time = ukcp_gsat.time.dt.year).to_pandas().transpose()\n",
    "\n",
    "for i in range(15):\n",
    "    \n",
    "    csv_fnm = \"../00_gsat/ukcp-land-gcm_gsat-aw_sm_\"+str(i+1).rjust(2, \"0\")+\".dat\"\n",
    "    \n",
    "    # create extra header lines for upload to Climate Explorer\n",
    "    str1 = \"# contact :: UKCP-land-gcm GSAT (member \"+str(i+1).rjust(2, \"0\")+\"), c.barnes22@imperial.ac.uk\"\n",
    "    str2 = \"# temperature [degC] area-weighted global surface air temperature at \"+re.sub(\".dat\", \"\", csv_fnm.split(\"/\")[-1])\n",
    "    head = \"# year tas_aw\"\n",
    "    \n",
    "    ! echo \"$str1 \" > $csv_fnm\n",
    "    ! echo \"$str2\" >> $csv_fnm\n",
    "    ! echo \"$head\" >> $csv_fnm\n",
    "    \n",
    "    ukcp_gsat[[i+1]].to_csv(csv_fnm, sep = \" \", mode = \"a\", header = False)"
   ]
  },
  {
   "cell_type": "markdown",
   "id": "cb3f1124-e52c-474b-b6bc-2d4deb67f2b1",
   "metadata": {},
   "source": [
    "#### **HighResMIP**"
   ]
  },
  {
   "cell_type": "markdown",
   "id": "965b2bf3-0c88-4f34-9a55-142697cb22bb",
   "metadata": {
    "tags": []
   },
   "source": [
    "Originally calculated on Jasmin:\n",
    "\n",
    "```\n",
    "# loop over all available SST-future runs and select the region of interest, save subfiles of annual time series)\n",
    "\n",
    "# select models based on existence of SST-future runs: fewer of these than SST-present\n",
    "for fpath in glob.glob(\"/badc/cmip6/data/CMIP6/HighResMIP/*/*/highresSST-future/*/Amon/tas/*/latest/\"):\n",
    "    \n",
    "    print(fpath, end = \" - \")\n",
    "\n",
    "    # list all available files: both SST-future and SST-present\n",
    "    fl_hist = sorted(glob.glob(re.sub(\"future\", \"present\", fpath)+\"/*.nc\"))\n",
    "    fl_fut = sorted(glob.glob(fpath+\"/*.nc\"))\n",
    "\n",
    "    # if no present-day simulations, skip this run\n",
    "    if len(fl_hist) == 0:\n",
    "        print(\"no historical simulations\")\n",
    "        continue\n",
    "    if len(fl_fut) == 0:\n",
    "        print(\"no future simulations\")\n",
    "        continue\n",
    "\n",
    "    sfpath = \"/home/users/clairb/11_wwa/hiResMip_GSATs/subfiles/\"\n",
    "    \n",
    "    for fl in [fl_hist, fl_fut]:\n",
    "\n",
    "        sf_fnm = sfpath + fl[0].split(\"/\")[-1][:-9] + fl[-1][-9:]\n",
    "        if len(glob.glob(sf_fnm)) > 0: continue\n",
    "\n",
    "        if len(fl) == 1:\n",
    "            ds = xr.open_dataset(fl[0])\n",
    "        else:\n",
    "            ds = xr.open_mfdataset(fl)\n",
    "\n",
    "        # get area-weighted annual mean, save to netcdf\n",
    "        area_weights = np.cos(np.deg2rad(ds.lat))\n",
    "        tas_aw = ds.tas.weighted(area_weights).mean([\"lat\", \"lon\"]).resample(time = \"AS\").mean().reset_coords(drop = True)\n",
    "        tas_aw.to_netcdf(sf_fnm)\n",
    "\n",
    "    print(\"saved\")\n",
    "print(\"Done.\")\n",
    "\n",
    "\n",
    "#~~~~~~~~~~~~~~~~~~~~~~~~~~~~~~~~~~~~~~~~~~~~~~~~~~~~~~~~~~~~~~~~~~~~~~~~~~~~~~~~~~~~~~~~\n",
    "\n",
    "\n",
    "# now merge annual time series into a single file\n",
    "sfpath = \"/home/users/clairb/11_wwa/hiResMip_GSATs/subfiles/\"\n",
    "for fnm in list(set([re.sub(\"future\", \"present\", re.sub(\"_[0-9]{6}.+\", \"\", fnm)) for fnm in glob.glob(sfpath+\"*\")])):\n",
    "    \n",
    "    new_fnm = re.sub(\"subfiles/\", \"\", glob.glob(fnm+\"*\")[0][:-9]+glob.glob(re.sub(\"present\", \"future\", fnm)+\"*\")[0][-9:])\n",
    "    if len(glob.glob(new_fnm)) > 0: continue\n",
    "\n",
    "    ds_hist = xr.open_mfdataset(fnm+\"*\")\n",
    "    ds_fut = xr.open_mfdataset(re.sub(\"present\", \"future\", fnm)+\"*\")\n",
    "\n",
    "    # if dates overlap, remove end of historical period (seems to be a one-month overlap in EC-Earth3P-HR)\n",
    "    if ds_hist.time.max() >= ds_fut.time.min():\n",
    "        ds_hist = ds_hist.sel(time = slice(None, ds_fut.time.min())).isel(time = slice(None, -1))        \n",
    "\n",
    "    tas = xr.concat([ds_hist, ds_fut], \"time\").tas\n",
    "    tas = xclim.core.units.convert_units_to(tas, \"degC\")\n",
    "    tas = xclim.core.calendar.convert_calendar(tas, \"default\", align_on = \"date\")\n",
    "\n",
    "    tas.to_netcdf(new_fnm)\n",
    "```\n"
   ]
  },
  {
   "cell_type": "code",
   "execution_count": 41,
   "id": "3e232429-644f-44d8-80ee-662b2ca4d704",
   "metadata": {},
   "outputs": [],
   "source": [
    "# data downloaded from Jasmin needs to be smoothed before saving for upload\n",
    "for fnm in glob.glob(\"../90_data/highresmip_gsats/*\"):\n",
    "    \n",
    "    ds = xr.open_dataset(fnm).tas\n",
    "    ds = ds.rolling(time = 4).mean().dropna(\"time\", \"any\")\n",
    "\n",
    "    fnm = fnm.split(\"/\")[-1]\n",
    "    csv_fnm = \"../00_gsat/highresmip_gsat-aw-sm_\"+fnm.split(\"_\")[2]+\"-\"+fnm.split(\"_\")[4]+\".dat\"\n",
    "    \n",
    "    # create extra header lines for upload to Climate Explorer\n",
    "    str1 = \"# contact :: HighResMIP GSAT (\"+fnm.split(\"_\")[2]+\"_\"+fnm.split(\"_\")[4]+\"), c.barnes22@imperial.ac.uk\"\n",
    "    str2 = \"# temperature [degC] area-weighted global surface air temperature at \"+re.sub(\".dat\", \"\", csv_fnm.split(\"/\")[-1])\n",
    "    head = \"# year tas_aw\"\n",
    "    \n",
    "    ! echo \"$str1 \" > $csv_fnm\n",
    "    ! echo \"$str2\" >> $csv_fnm\n",
    "    ! echo \"$head\" >> $csv_fnm\n",
    "    \n",
    "    ds.assign_coords(time = ds.time.dt.year).to_dataframe().to_csv(csv_fnm, sep = \" \", mode = \"a\", header = False)"
   ]
  },
  {
   "cell_type": "code",
   "execution_count": null,
   "id": "a351e257-9d88-42f6-9f17-5612bec77b6d",
   "metadata": {},
   "outputs": [],
   "source": []
  }
 ],
 "metadata": {
  "kernelspec": {
   "display_name": "wwa",
   "language": "python",
   "name": "wwa"
  },
  "language_info": {
   "codemirror_mode": {
    "name": "ipython",
    "version": 3
   },
   "file_extension": ".py",
   "mimetype": "text/x-python",
   "name": "python",
   "nbconvert_exporter": "python",
   "pygments_lexer": "ipython3",
   "version": "3.10.6"
  }
 },
 "nbformat": 4,
 "nbformat_minor": 5
}
