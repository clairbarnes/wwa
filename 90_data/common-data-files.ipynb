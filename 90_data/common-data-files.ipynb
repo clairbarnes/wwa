{
 "cells": [
  {
   "cell_type": "markdown",
   "id": "aeab208e-c6c1-4176-aeee-9edeb9862271",
   "metadata": {},
   "source": [
    "## **Pre-processing of commonly used data files**"
   ]
  },
  {
   "cell_type": "code",
   "execution_count": 2,
   "id": "b63325a4-ac68-42f3-9e99-10a3570d9dcc",
   "metadata": {},
   "outputs": [],
   "source": [
    "import sys; sys.path.append('/home/clair/WWA'); from wwa import *"
   ]
  },
  {
   "cell_type": "markdown",
   "id": "1b959c91-f6ec-4f36-88db-f402d76e8ec6",
   "metadata": {},
   "source": [
    "### **Global elevation**"
   ]
  },
  {
   "cell_type": "markdown",
   "id": "8dfcc42a-5754-459b-8f77-60cf06c9f859",
   "metadata": {},
   "source": [
    "! wget http://research.jisao.washington.edu/data_sets/elevation/elev.0.25-deg.nc\n",
    "\n",
    "ds = wrap_lon(xr.open_dataset(\"../90_data/elev.0.25-deg.nc\", decode_times = False).data.squeeze(drop = True))\n",
    "ds = ds.assign_attrs(long_name = \"elevation\", units = \"m above sea level\",                    \n",
    "                     source = \"http://research.jisao.washington.edu/data_sets/elevation/\").rename(\"elev\")\n",
    "ds.to_netcdf(\"../90_data/elevation-0.25deg-global.nc\")"
   ]
  },
  {
   "cell_type": "code",
   "execution_count": null,
   "id": "7af1f33d-86df-47e6-bd5d-8d8a5a56b81a",
   "metadata": {},
   "outputs": [],
   "source": []
  }
 ],
 "metadata": {
  "kernelspec": {
   "display_name": "wwa",
   "language": "python",
   "name": "wwa"
  },
  "language_info": {
   "codemirror_mode": {
    "name": "ipython",
    "version": 3
   },
   "file_extension": ".py",
   "mimetype": "text/x-python",
   "name": "python",
   "nbconvert_exporter": "python",
   "pygments_lexer": "ipython3",
   "version": "3.10.6"
  }
 },
 "nbformat": 4,
 "nbformat_minor": 5
}
