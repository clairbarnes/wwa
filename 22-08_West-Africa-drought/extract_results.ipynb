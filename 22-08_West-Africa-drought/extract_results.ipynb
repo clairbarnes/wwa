{
 "cells": [
  {
   "cell_type": "markdown",
   "id": "0f82ea9a-5635-4fa4-b831-55a0645e5835",
   "metadata": {},
   "source": [
    "### **Extract results for Climate Explorer spreadsheet from validation / attribution output**\n"
   ]
  },
  {
   "cell_type": "code",
   "execution_count": 1,
   "id": "3a3e4572-c174-49fa-9296-b483f84b0a48",
   "metadata": {},
   "outputs": [
    {
     "name": "stderr",
     "output_type": "stream",
     "text": [
      "ERROR 1: PROJ: proj_create_from_database: Open of /home/clair/miniconda3/envs/wwa/share/proj failed\n"
     ]
    }
   ],
   "source": [
    "import sys; sys.path.append('/home/clair/WWA'); from wwa import *"
   ]
  },
  {
   "cell_type": "code",
   "execution_count": 10,
   "id": "0cd0985d-6762-489c-9ce1-1fa20bd0010b",
   "metadata": {},
   "outputs": [],
   "source": [
    "# run the results\n",
    "pd.concat([read_results(fnm) for fnm in glob.glob(\"res/AFR-44_june_total_*.txt\")]).to_csv(\"AFR-44_june-total_results.csv\")\n",
    "pd.concat([read_results(fnm) for fnm in glob.glob(\"res/AFR-22_june*.txt\")]).to_csv(\"AFR-22_june-total_results.csv\")\n",
    "\n",
    "\n",
    "pd.concat([read_results(fnm) for fnm in glob.glob(\"res/AFR-44_rs_onset*.txt\")]).to_csv(\"AFR-44_rs-onset_results.csv\")\n",
    "pd.concat([read_results(fnm) for fnm in glob.glob(\"res/AFR-22_rs_onset*.txt\")]).to_csv(\"AFR-22_rs-onset_results.csv\")\n",
    "\n",
    "\n",
    "pd.concat([read_results(fnm) for fnm in glob.glob(\"res/AFR-44_rs_duration*.txt\")]).to_csv(\"AFR-44_rs-duration_results.csv\")\n",
    "pd.concat([read_results(fnm) for fnm in glob.glob(\"res/AFR-22_rs_duration*.txt\")]).to_csv(\"AFR-22_rs-duration_results.csv\")"
   ]
  },
  {
   "cell_type": "code",
   "execution_count": 21,
   "id": "9fce0d99-a88f-450c-8e76-562db9715120",
   "metadata": {},
   "outputs": [
    {
     "data": {
      "text/plain": [
       "[None, None, None, None, None, None]"
      ]
     },
     "execution_count": 21,
     "metadata": {},
     "output_type": "execute_result"
    }
   ],
   "source": [
    "[results_to_spreadsheet(fnm) for fnm in glob.glob(\"AFR-*_results.csv\")]"
   ]
  },
  {
   "cell_type": "code",
   "execution_count": 20,
   "id": "8bcaac1d-85ed-435e-845f-c5fbda81885e",
   "metadata": {},
   "outputs": [],
   "source": [
    "def results_to_spreadsheet(fnm):\n",
    "    \n",
    "    # load compiled model output\n",
    "    df = pd.read_csv(fnm, index_col = 0)\n",
    "    \n",
    "    res = []\n",
    "    # loop over each dataset in turn, extracting necessary information from each layer\n",
    "    for d in sorted(set(df.dataset.values)):\n",
    "        \n",
    "        # extract relevant data\n",
    "        dfd = df.loc[df.dataset == d]\n",
    "        \n",
    "        if len(dfd) < 3: \n",
    "            print(\"Missing evaluation\")\n",
    "            print(dfd.index.values)\n",
    "            continue\n",
    "        \n",
    "        if not all([len(set(dfd[attr].values)) == 1 for attr in [\"distribution\", \"fit_type\", \"covariate_matched\", \"lower_tail\", \"include_event\"]]):\n",
    "            print(\"Mismatch in fitted model\")\n",
    "            print(dfd[[\"covariate_matched\", \"distribution\", \"fit_type\", \"lower_tail\", \"include_event\"]])  \n",
    "            continue\n",
    "            \n",
    "        # split into validation/attribution to date/projection information\n",
    "        val, attr, fut = [dfd.loc[dfd.attr_type == atype].set_index(\"dataset\") if atype in dfd.attr_type.values else None for atype in [\"validation\", \"present\", \"future\"]]\n",
    "        fut[\"gmst\"] = 2\n",
    "        \n",
    "        # select just those elements needed from each section\n",
    "        # will need to add checks that they actually exist\n",
    "        val = val[[\"distribution\", \"fit_type\", \"lower_tail\", 'sigma_est', 'sigma_lower', 'sigma_upper', 'disp_est', 'disp_lower', 'disp_upper']]\n",
    "        attr = attr[[\"return_time\", \"event_magnitude\", \"gmst_now\", 'pr_est', 'pr_lower', 'pr_upper', 'DI_est', 'DI_lower', 'DI_upper']]\n",
    "        fut = fut[[\"gmst\",'pr_est', 'pr_lower', 'pr_upper', 'DI_est', 'DI_lower', 'DI_upper']]\n",
    "        \n",
    "        res.append(val.merge(attr, left_index = True, right_index = True).merge(fut, left_index = True, right_index = True))\n",
    "    \n",
    "    pd.concat(res).to_csv(re.sub(\"results\", \"spreadsheet\", fnm))"
   ]
  },
  {
   "cell_type": "code",
   "execution_count": 116,
   "id": "9df50794-b480-4e44-a25f-e493dc9ed70b",
   "metadata": {},
   "outputs": [],
   "source": [
    "# all time series to .csv for upload to Google Drive\n",
    "\n",
    "def xr_to_pd(da):\n",
    "    \n",
    "    return pd.concat([da.sel(run = r, drop = True).to_dataframe(name = r).transpose() for r in da.run.values]).transpose()\n",
    "    \n",
    "xr_to_pd(xr.open_dataset(\"ts/june_totals-afr44.nc\").june_total).to_csv(\"jun-totals_cordex-afr44.csv\")\n",
    "xr_to_pd(xr.open_dataset(\"ts/june_totals-afr22.nc\").june_total).to_csv(\"jun-totals_cordex-afr22.csv\")\n",
    "xr_to_pd(xr.open_dataset(\"ts/june_totals-highresmip.nc\").june_total).to_csv(\"jun-totals_highresmip.csv\")\n",
    "\n",
    "xr_to_pd(xr.open_dataset(\"ts/season_onsets-afr44.nc\").rs_onset).to_csv(\"rs-onset_cordex-afr44.csv\")\n",
    "xr_to_pd(xr.open_dataset(\"ts/season_onsets-afr22.nc\").rs_onset).to_csv(\"rs-onset_cordex-afr22.csv\")\n",
    "xr_to_pd(xr.open_dataset(\"ts/season_onsets-highresmip.nc\").rs_onset).to_csv(\"rs-onset_highresmip.csv\")\n",
    "\n",
    "xr_to_pd(xr.open_dataset(\"ts/season_durations-afr44.nc\").rs_duration).to_csv(\"rs-duration_cordex-afr44.csv\")\n",
    "xr_to_pd(xr.open_dataset(\"ts/season_durations-afr22.nc\").rs_duration).to_csv(\"rs-duration_cordex-afr22.csv\")\n",
    "xr_to_pd(xr.open_dataset(\"ts/season_durations-highresmip.nc\").rs_duration).to_csv(\"rs-duration_highresmip.csv\")\n"
   ]
  },
  {
   "cell_type": "code",
   "execution_count": null,
   "id": "89dabf0a-9179-447d-a2a4-e37d38cf3b8f",
   "metadata": {},
   "outputs": [],
   "source": []
  }
 ],
 "metadata": {
  "kernelspec": {
   "display_name": "wwa",
   "language": "python",
   "name": "wwa"
  },
  "language_info": {
   "codemirror_mode": {
    "name": "ipython",
    "version": 3
   },
   "file_extension": ".py",
   "mimetype": "text/x-python",
   "name": "python",
   "nbconvert_exporter": "python",
   "pygments_lexer": "ipython3",
   "version": "3.10.6"
  }
 },
 "nbformat": 4,
 "nbformat_minor": 5
}
