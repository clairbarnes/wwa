{
 "cells": [
  {
   "cell_type": "markdown",
   "id": "26616ec4-cfca-49c0-9b05-846c56fff1ad",
   "metadata": {},
   "source": [
    "## **Model evaluation for Nigeria flooding study**"
   ]
  },
  {
   "cell_type": "code",
   "execution_count": 1,
   "id": "53b599d3-abcf-4dcf-b726-482e735a96ee",
   "metadata": {},
   "outputs": [],
   "source": [
    "import sys; sys.path.append('/home/clair/WWA'); from wwa import *"
   ]
  },
  {
   "cell_type": "code",
   "execution_count": null,
   "id": "0b63882e-2172-4202-83d9-b47b88726c61",
   "metadata": {},
   "outputs": [],
   "source": [
    "# create empty dataframes to hold results & comments\n",
    "# [eval_df(ens, region) for ens in [\"AFR-44\", \"AFR-22\"] for region in [\"lake-chad\", \"lower-niger\"]]"
   ]
  },
  {
   "cell_type": "markdown",
   "id": "130f695c-7daa-4f63-b510-d222a0665914",
   "metadata": {
    "tags": []
   },
   "source": [
    "---\n",
    "### **Spatial patterns**"
   ]
  },
  {
   "cell_type": "code",
   "execution_count": 2,
   "id": "506007bf-61a2-4855-986c-fb3fc283322e",
   "metadata": {},
   "outputs": [],
   "source": [
    "chirps = xr.open_dataset(\"obs/chirps_spatial_jjas-yearly.nc\").precip.mean(\"time\")\n",
    "\n",
    "sf = pd.concat([gpd.read_file(\"00_regions/sf_lower-niger\"), gpd.read_file(\"00_regions/sf_lake-chad\")])\n",
    "\n",
    "chirps_cmt = chirps.where(regionmask.mask_3D_geopandas(sf.dissolve(), chirps.longitude, chirps.latitude, drop = False).squeeze(drop = True)).dropna(\"latitude\", \"all\").dropna(\"longitude\", \"all\")"
   ]
  },
  {
   "cell_type": "code",
   "execution_count": 8,
   "id": "e16b5d3f-de6d-4449-8c8e-fa0cebffc7ff",
   "metadata": {
    "tags": []
   },
   "outputs": [],
   "source": [
    "ens = \"AFR-22\"\n",
    "fl_sp = sorted(glob.glob(\"cordex/pr-spatial_\"+ens+\"_*.nc\"))\n",
    "\n",
    "nc = 6\n",
    "nskip = 1\n",
    "nr = int(np.ceil((len(fl_sp)+nskip+1) / nc))\n",
    "\n",
    "plot_kwargs = {\"add_colorbar\" : True, \"cbar_kwargs\" : {\"location\" : \"bottom\", \"fraction\" : 0.04, \"pad\" : 0.05, \"label\" : \"\"}, \"cmap\" : \"Blues\", \"vmin\" : 0}"
   ]
  },
  {
   "cell_type": "code",
   "execution_count": 9,
   "id": "9f500438-2670-4b08-b2f8-b694da5249fa",
   "metadata": {
    "tags": []
   },
   "outputs": [],
   "source": [
    "fig, axs = plt.subplots(ncols = nc, nrows = nr, figsize = (nc*3.5, nr*3.5), dpi = 100, subplot_kw = {\"projection\" : cartopy.crs.PlateCarree()})\n",
    "for ax in fig.axes: ax.set_axis_off()\n",
    "\n",
    "#~~~~~~~~~~~~~~~~~~~~~~~~~~~~~~~~~~~~~~~~~~~~~~~~~~~~~~~~~~~~~~~~~~\n",
    "# load evaluation file\n",
    "sp_comment_file = ens+\"_lower-niger_model-eval.txt\"\n",
    "if len(glob.glob(sp_comment_file)) > 0:\n",
    "    sp_comments = pd.read_csv(sp_comment_file, quotechar = \"'\", index_col = \"model_name\")[\"spatial_pattern\"]\n",
    "else:\n",
    "    sp_comments = None\n",
    "#~~~~~~~~~~~~~~~~~~~~~~~~~~~~~~~~~~~~~~~~~~~~~~~~~~~~~~~~~~~~~~~~~~\n",
    "# CHIRPS data for reference\n",
    "\n",
    "ax = fig.axes[0]\n",
    "chirps.plot(ax = ax, **plot_kwargs)\n",
    "ax.coastlines(lw = 1)\n",
    "ax.add_feature(cartopy.feature.BORDERS, ls = \"--\", alpha = 0.5)\n",
    "ax.set_title(\"CHIRPS\", fontweight = \"bold\")\n",
    "\n",
    "# models\n",
    "for i in range(len(fl_sp)):\n",
    "    \n",
    "    fnm = fl_sp[i]\n",
    "    ax = fig.axes[i+nskip+1]\n",
    "    mdl = cordex_model(fnm)\n",
    "    \n",
    "    pr = convert_units_to(xr.open_dataset(fnm).pr.sel(month = [6,7,8,9]).mean(\"month\"), \"mm/day\")    \n",
    "    if cordex_model(fnm) in [\"MPI-ESM-MR_r1_RegCM4-3\"]: pr = pr * 86400\n",
    "\n",
    "    if \"RegCM\" in fnm:\n",
    "        cbar = ax.pcolormesh(pr.lon, pr.lat, pr, cmap = \"Blues\", vmin = 0)\n",
    "        plt.colorbar(cbar, ax = ax, location = \"bottom\", fraction = 0.04, pad = 0.05)\n",
    "    else:\n",
    "        pr.plot(ax = ax, **plot_kwargs)\n",
    "        \n",
    "    ax.set_title(cordex_model(fnm))\n",
    "    ax.coastlines(lw = 1)\n",
    "    ax.add_feature(cartopy.feature.BORDERS, ls = \"--\", alpha = 0.5)\n",
    "    \n",
    "    # add a coloured block to indicate evaluation\n",
    "    cmt = \"nan\"\n",
    "    if sp_comments is not None:\n",
    "        if mdl in sp_comments: cmt = re.sub(\" .+\", \"\", str(sp_comments[mdl]))\n",
    "    if cmt == \"nan\":\n",
    "        col = \"w\"\n",
    "    else:\n",
    "        col = {\"good\" : \"green\", \"bad\" : \"red\", \"reasonable\" : \"orange\"}[cmt]\n",
    "    ax.legend(handles = [matplotlib.patches.Patch(color = col, label = \"\", alpha = 0.5)], loc = \"upper left\", edgecolor = \"w\")\n",
    "    \n",
    "plt.suptitle(\"Spatial patterns of JJAS mean precipitation (mm/day) in wider region (CORDEX \"+ens+\")\", fontweight = \"bold\", y = 0.9)\n",
    "\n",
    "plt.savefig(ens+\"_spatial-patterns_western-Africa.png\"); plt.close()"
   ]
  },
  {
   "cell_type": "code",
   "execution_count": 10,
   "id": "5c5cc934-604e-487f-b68b-f4e553fad79f",
   "metadata": {},
   "outputs": [],
   "source": [
    "fig, axs = plt.subplots(ncols = nc, nrows = nr, figsize = (nc*3.5, nr*3), dpi = 100, subplot_kw = {\"projection\" : cartopy.crs.PlateCarree()})\n",
    "for ax in fig.axes: ax.set_axis_off()\n",
    "\n",
    "#~~~~~~~~~~~~~~~~~~~~~~~~~~~~~~~~~~~~~~~~~~~~~~~~~~~~~~~~~~~~~~~~~~\n",
    "# load evaluation file\n",
    "sp_comment_file = ens+\"_lower-niger_model-eval.txt\"\n",
    "if len(glob.glob(sp_comment_file)) > 0:\n",
    "    sp_comments = pd.read_csv(sp_comment_file, quotechar = \"'\", index_col = \"model_name\")[\"spatial_pattern\"]\n",
    "else:\n",
    "    sp_comments = None\n",
    "#~~~~~~~~~~~~~~~~~~~~~~~~~~~~~~~~~~~~~~~~~~~~~~~~~~~~~~~~~~~~~~~~~~\n",
    "# CHIRPS data for reference\n",
    "\n",
    "ax = fig.axes[0]\n",
    "\n",
    "chirps_cmt.plot(ax = ax, **plot_kwargs)\n",
    "ax.coastlines(lw = 1)\n",
    "ax.add_feature(cartopy.feature.BORDERS, ls = \"--\", alpha = 0.5)\n",
    "ax.set_title(\"CHIRPS\", fontweight = \"bold\")\n",
    "sf.boundary.plot(ax = ax, color = \"k\", lw = .5)\n",
    "\n",
    "# models\n",
    "for i in range(len(fl_sp)):\n",
    "    \n",
    "    fnm = fl_sp[i]\n",
    "    ax = fig.axes[i+nskip+1]\n",
    "    mdl = cordex_model(fnm)\n",
    "    \n",
    "    pr = convert_units_to(xr.open_dataset(fnm).pr.sel(month = [6,7,8,9]).mean(\"month\"), \"mm/day\")    \n",
    "    if cordex_model(fnm) in [\"MPI-ESM-MR_r1_RegCM4-3\"]: pr = pr * 86400\n",
    "    \n",
    "    pr = pr.where(regionmask.mask_3D_geopandas(sf.dissolve(), pr.lon, pr.lat, drop = False).squeeze(drop = True))\n",
    "    \n",
    "    if \"rlat\" in pr.dims:\n",
    "        pr = pr.dropna(\"rlat\", \"all\").dropna(\"rlon\", \"all\")\n",
    "    elif \"x\" in pr.dims:\n",
    "        pr = pr.dropna(\"x\", \"all\").dropna(\"y\", \"all\")\n",
    "\n",
    "    if pr.max() > 20:\n",
    "        vmax = pr.quantile(.99)\n",
    "    else:\n",
    "        vmax = pr.max()\n",
    "    \n",
    "    if \"RegCM\" in fnm:\n",
    "        cbar = ax.pcolormesh(pr.lon, pr.lat, pr, cmap = \"Blues\", vmin = 0, vmax = vmax)\n",
    "        plt.colorbar(cbar, ax = ax, location = \"bottom\", fraction = 0.04, pad = 0.05)\n",
    "    else:\n",
    "        pr.plot(ax = ax, vmax = vmax, **plot_kwargs)\n",
    "        \n",
    "    # add a coloured block to indicate evaluation\n",
    "    cmt = \"nan\"\n",
    "    if sp_comments is not None:\n",
    "        if mdl in sp_comments: cmt = re.sub(\" .+\", \"\", str(sp_comments[mdl]))\n",
    "    if cmt == \"nan\":\n",
    "        col = \"w\"\n",
    "    else:\n",
    "        col = {\"good\" : \"green\", \"bad\" : \"red\", \"reasonable\" : \"orange\"}[cmt]    \n",
    "    ax.legend(handles = [matplotlib.patches.Patch(color = col, label = \"\", alpha = 0.5)], loc = \"upper left\", edgecolor = \"w\")\n",
    "        \n",
    "    sf.boundary.plot(ax = ax, color = \"k\", lw = .5)\n",
    "    ax.set_title(cordex_model(fnm))\n",
    "    ax.coastlines(lw = 1)\n",
    "    ax.add_feature(cartopy.feature.BORDERS, ls = \"--\", alpha = 0.5)\n",
    "    \n",
    "plt.suptitle(\"Spatial patterns of JJAS mean precipitation (mm/day) in study region (CORDEX \"+ens+\")\", fontweight = \"bold\", y = 0.9)\n",
    "\n",
    "plt.savefig(ens+\"_spatial-patterns_Niger-Chad.png\"); plt.close()"
   ]
  },
  {
   "cell_type": "markdown",
   "id": "0bcb59a9-b71b-4c59-94a1-cec9558438af",
   "metadata": {},
   "source": [
    "---\n",
    "### **Seasonal cycle**"
   ]
  },
  {
   "cell_type": "code",
   "execution_count": 13,
   "id": "ae0c63cf-70df-485b-a54b-46daf1227bdf",
   "metadata": {},
   "outputs": [],
   "source": [
    "ens = \"AFR-22\"\n",
    "\n",
    "nc = 5\n",
    "\n",
    "for rnm in [\"chad\", \"niger\", \"lagdo\"][:1]:\n",
    "    \n",
    "    cmt_nm = {\"chad\" : \"Lake Chad\", \"niger\" : \"Lower Niger\", \"lagdo\" : \"Lagdo Dam\"}[rnm]\n",
    "    comment_file = ens+\"_\"+re.sub(\" \", \"-\", cmt_nm).lower()+\"_model-eval.txt\"\n",
    "    if len(glob.glob(comment_file)) > 0:\n",
    "        comments = pd.read_csv(comment_file, quotechar = \"'\", index_col = \"model_name\")[\"seasonal_cycle\"]\n",
    "    else:\n",
    "        comments = None\n",
    "    \n",
    "    chirps = xr.open_mfdataset(\"obs/chirps*\"+rnm+\"*daily.nc\").precip\n",
    "    obs_dates = slice(str(chirps.time.min().dt.strftime(\"%Y%m%d\").values), str(chirps.time.max().dt.strftime(\"%Y%m%d\").values))\n",
    "    \n",
    "    fl = sorted(glob.glob(\"cordex/pr-\"+rnm+\"_\"+ens+\"_*.nc\"))\n",
    "    nr = int(np.ceil(len(fl) / nc))\n",
    "    \n",
    "    #~~~~~~~~~~~~~~~~~~~~~~~~~~~~~~~~~~~~~~~~~~~~~~~~~~~~~~~~~~~~~~~~~~~~~~~~~~~~~~~~~~~~~~~~~~~~~~~~~~~~~\n",
    "    fig, axs = plt.subplots(ncols = nc, nrows = nr, figsize = (nc*3, nr*3), dpi = 100, sharey = True)\n",
    "    plt.subplots_adjust(hspace = 0.7)\n",
    "    for ax in fig.axes: ax.set_axis_off()\n",
    "        \n",
    "    for i in range(len(fl)):\n",
    "        \n",
    "        ax = fig.axes[i]\n",
    "        fnm = fl[i]\n",
    "        mdl = cordex_model(fnm)\n",
    "        \n",
    "        cmt = \"nan\"\n",
    "        if comments is not None:\n",
    "            if mdl in comments: cmt = re.sub(\" .+\", \"\", str(comments[mdl]))\n",
    "            \n",
    "        if cmt == \"nan\":\n",
    "            col = \"tab:blue\"\n",
    "        else:\n",
    "            col = {\"good\" : \"green\", \"bad\" : \"red\", \"reasonable\" : \"orange\"}[cmt]\n",
    "        \n",
    "        pr = xr.open_dataset(fnm).pr.sel(time = obs_dates)\n",
    "        \n",
    "        normalised_seasonal_cycle(pr).plot(ax = ax, color = col)\n",
    "        normalised_seasonal_cycle(chirps).plot(label = \"CHIRPS\", color = \"k\", zorder = 100, ax = ax)\n",
    "        \n",
    "        [ax.axvline(d, ls = \"--\", color = \"red\", alpha = 0.4) for d in [153, 274]]\n",
    "        \n",
    "        ax.set_title(mdl)\n",
    "        ax.set_ylabel(\"Scaled precip\")\n",
    "        ax.set_axis_on()\n",
    "        \n",
    "    plt.suptitle(\"Scaled seasonal cycle of precipitation in \"+ens+\" models & CHIRPS (\"+cmt_nm+\" region)\", fontweight = \"bold\")\n",
    "    plt.savefig(ens+\"_seasonal-cycles-scaled_\"+rnm+\".png\"); plt.close()"
   ]
  },
  {
   "cell_type": "markdown",
   "id": "b74c97d7-0cbf-4d81-89a3-5f4ee64612ea",
   "metadata": {},
   "source": [
    "## **Model selection for Nigeria flooding study**"
   ]
  },
  {
   "cell_type": "markdown",
   "id": "a1bc45bc-acf7-455d-9e17-ecee6162959b",
   "metadata": {},
   "source": [
    "#### **Lower Niger catchment: 7-day max precipitation**"
   ]
  },
  {
   "cell_type": "code",
   "execution_count": 9,
   "id": "c63c772e-1eb5-4e32-8d55-cb189b608434",
   "metadata": {},
   "outputs": [],
   "source": [
    "# identify models that passed spatial & seasonal evaluation, list filenames\n",
    "\n",
    "df = pd.concat([pd.read_csv(ens+\"_lower-niger_model-eval.txt\", quotechar = \"'\", index_col = \"model_name\") for ens in [\"AFR-44\", \"AFR-22\"]])\n",
    "\n",
    "df = df.loc[[r[0] & r[1] for r in list(zip([v.split(\" \")[0] in [\"good\", \"reasonable\"] for v in df.seasonal_cycle.values],\n",
    "                                           [v.split(\" \")[0] in [\"good\", \"reasonable\"] for v in df.spatial_pattern.values]))]]\n",
    "fl = list(set(np.concatenate([glob.glob(\"cordex/pr-niger_*\"+re.sub(\"_\",\"*\",m)+\"_*\") for m in df.index])))"
   ]
  },
  {
   "cell_type": "code",
   "execution_count": 10,
   "id": "5e1ffb8d-36c0-4918-ac08-0c62cb0acb96",
   "metadata": {},
   "outputs": [],
   "source": [
    "fl = [fnm for fnm in fl if \"MPI\" in fnm and \"RegCM4-3\" in fnm]"
   ]
  },
  {
   "cell_type": "code",
   "execution_count": 11,
   "id": "a0d7865a-ec5f-45f1-9290-3537e4c41c39",
   "metadata": {
    "tags": []
   },
   "outputs": [],
   "source": [
    "for fnm in fl:\n",
    "    \n",
    "    csv_fnm = \"ts/lower-niger_7daymax_\"+cordex_model(fnm)+\".txt\"\n",
    "\n",
    "    ts = convert_units_to(xr.open_dataset(fnm).pr, \"mm/day\")\n",
    "    \n",
    "    ts7 = ts.rolling(time = 7, center = False).mean()\n",
    "    ts7 = ts7.sel(time = [m in [6,7,8,9] for m in ts7.time.dt.month]).resample(time = \"AS\").max()\n",
    "    \n",
    "    # remove any years where exactly equal to zero\n",
    "    ts7 = ts7.where(ts7 != 0).dropna(\"time\", \"any\")\n",
    "        \n",
    "    csv_str = \"# \"+re.sub(\"ts/\", \"\", re.sub(\".txt\", \"\", csv_fnm))\n",
    "    ts7.assign_coords(time = ts7.time.dt.year).rename(time = \"#year\").to_dataframe().to_csv(csv_fnm, sep = \" \")\n",
    "    \n",
    "    ! echo \"$csv_str\" >> $csv_fnm"
   ]
  },
  {
   "cell_type": "markdown",
   "id": "19e1de2e-e689-4fe8-aca6-ae83e4f590b9",
   "metadata": {},
   "source": [
    "#### **Lake Chad catchment: JJAS mean precipitation**"
   ]
  },
  {
   "cell_type": "code",
   "execution_count": 12,
   "id": "9f784b2d-1ed4-4e31-a177-bd4a7222dd2e",
   "metadata": {
    "tags": []
   },
   "outputs": [],
   "source": [
    "# identify models that passed spatial & seasonal evaluation, list filenames\n",
    "\n",
    "df = pd.concat([pd.read_csv(ens+\"_lake-chad_model-eval.txt\", quotechar = \"'\", index_col = \"model_name\") for ens in [\"AFR-44\", \"AFR-22\"]])[[\"seasonal_cycle\"]]\n",
    "df = df.merge(pd.concat([pd.read_csv(ens+\"_lower-niger_model-eval.txt\", quotechar = \"'\", index_col = \"model_name\") for ens in [\"AFR-44\", \"AFR-22\"]])[[\"spatial_pattern\"]],\n",
    "              left_index = True, right_index = True)\n",
    "\n",
    "df = df.loc[[r[0] & r[1] for r in list(zip([v.split(\" \")[0] in [\"good\", \"reasonable\"] for v in df.seasonal_cycle.values],\n",
    "                                           [v.split(\" \")[0] in [\"good\", \"reasonable\"] for v in df.spatial_pattern.values]))]]\n",
    "fl = list(set(np.concatenate([glob.glob(\"cordex/pr-chad_*\"+re.sub(\"_\",\"*\",m)+\"_*\") for m in df.index])))\n",
    "fl = [fnm for fnm in fl if \"MPI\" in fnm and \"RegCM4-3\" in fnm]"
   ]
  },
  {
   "cell_type": "code",
   "execution_count": 13,
   "id": "79e3aa11-a49c-44cc-b45e-fd56c63affde",
   "metadata": {
    "tags": []
   },
   "outputs": [],
   "source": [
    "for fnm in fl:\n",
    "    \n",
    "    csv_fnm = \"ts/lake-chad_jjas-mean_\"+cordex_model(fnm)+\".txt\"\n",
    "    \n",
    "    ts = convert_units_to(xr.open_dataset(fnm).pr, \"mm/day\")\n",
    "    \n",
    "    jjas = ts.sel(time = [m in [6,7,8,9] for m in ts.time.dt.month]).resample(time = \"AS\").mean()\n",
    "\n",
    "    # remove any years where exactly equal to zero\n",
    "    jjas = jjas.where(jjas != 0).dropna(\"time\", \"any\")\n",
    "\n",
    "    csv_str = \"# \"+re.sub(\"ts/\", \"\", re.sub(\".txt\", \"\", csv_fnm))\n",
    "    jjas.assign_coords(time = jjas.time.dt.year).rename(time = \"#year\").to_dataframe().to_csv(csv_fnm, sep = \" \")\n",
    "    \n",
    "    ! echo \"$csv_str\" >> $csv_fnm\n"
   ]
  },
  {
   "cell_type": "code",
   "execution_count": 8,
   "id": "0a3d4fa0-1ab4-4f5a-826f-018521af27a1",
   "metadata": {
    "tags": []
   },
   "outputs": [
    {
     "data": {
      "text/plain": [
       "{'EC-EARTH_r12',\n",
       " 'HadGEM2-ES_r1',\n",
       " 'IPSL-CM5A-LR_r1',\n",
       " 'MIROC5_r1',\n",
       " 'MPI-ESM-LR_r1',\n",
       " 'MPI-ESM-MR_r1',\n",
       " 'NorESM1-M_r1'}"
      ]
     },
     "execution_count": 8,
     "metadata": {},
     "output_type": "execute_result"
    }
   ],
   "source": [
    "# which GSATs do I need to upload?\n",
    "set([fnm.split(\"_\")[2]+\"_\"+fnm.split(\"_\")[3] for fnm in glob.glob(\"ts/*\")])"
   ]
  },
  {
   "cell_type": "code",
   "execution_count": null,
   "id": "668e850a-5277-41f3-a6f7-9a5f1b15bfc9",
   "metadata": {},
   "outputs": [],
   "source": []
  }
 ],
 "metadata": {
  "kernelspec": {
   "display_name": "wwa",
   "language": "python",
   "name": "wwa"
  },
  "language_info": {
   "codemirror_mode": {
    "name": "ipython",
    "version": 3
   },
   "file_extension": ".py",
   "mimetype": "text/x-python",
   "name": "python",
   "nbconvert_exporter": "python",
   "pygments_lexer": "ipython3",
   "version": "3.10.6"
  }
 },
 "nbformat": 4,
 "nbformat_minor": 5
}
